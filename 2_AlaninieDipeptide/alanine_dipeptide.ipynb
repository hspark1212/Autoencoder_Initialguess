{
 "cells": [
  {
   "cell_type": "code",
   "execution_count": 29,
   "metadata": {},
   "outputs": [
    {
     "name": "stdout",
     "output_type": "stream",
     "text": [
      "Fri Oct 16 11:34:06 2020       \n",
      "+-----------------------------------------------------------------------------+\n",
      "| NVIDIA-SMI 450.51.06    Driver Version: 450.51.06    CUDA Version: 11.0     |\n",
      "|-------------------------------+----------------------+----------------------+\n",
      "| GPU  Name        Persistence-M| Bus-Id        Disp.A | Volatile Uncorr. ECC |\n",
      "| Fan  Temp  Perf  Pwr:Usage/Cap|         Memory-Usage | GPU-Util  Compute M. |\n",
      "|                               |                      |               MIG M. |\n",
      "|===============================+======================+======================|\n",
      "|   0  GeForce RTX 208...  On   | 00000000:01:00.0 Off |                  N/A |\n",
      "| 40%   50C    P2    59W / 250W |  10451MiB / 11019MiB |      0%      Default |\n",
      "|                               |                      |                  N/A |\n",
      "+-------------------------------+----------------------+----------------------+\n",
      "|   1  GeForce RTX 208...  On   | 00000000:02:00.0 Off |                  N/A |\n",
      "| 35%   47C    P2    44W / 250W |  10450MiB / 11019MiB |      0%      Default |\n",
      "|                               |                      |                  N/A |\n",
      "+-------------------------------+----------------------+----------------------+\n",
      "                                                                               \n",
      "+-----------------------------------------------------------------------------+\n",
      "| Processes:                                                                  |\n",
      "|  GPU   GI   CI        PID   Type   Process name                  GPU Memory |\n",
      "|        ID   ID                                                   Usage      |\n",
      "|=============================================================================|\n",
      "|    0   N/A  N/A       993      G   /usr/lib/xorg/Xorg                  9MiB |\n",
      "|    0   N/A  N/A      1049      G   /usr/bin/gnome-shell               14MiB |\n",
      "|    0   N/A  N/A     16094      C   ...nvs/textmining/bin/python    10423MiB |\n",
      "|    1   N/A  N/A       993      G   /usr/lib/xorg/Xorg                  4MiB |\n",
      "|    1   N/A  N/A     17394      C   ...conda3/envs/AE/bin/python    10441MiB |\n",
      "+-----------------------------------------------------------------------------+\n"
     ]
    }
   ],
   "source": [
    "!nvidia-smi"
   ]
  },
  {
   "cell_type": "code",
   "execution_count": 30,
   "metadata": {},
   "outputs": [],
   "source": [
    "import os\n",
    "os.environ[\"CUDA_VISIBLE_DEVICES\"] = \"1\"\n",
    "\n",
    "from pathlib import Path\n",
    "\n",
    "import numpy as np\n",
    "import matplotlib.pyplot as plt\n",
    "\n",
    "import tensorflow as tf\n",
    "import tensorflow.keras as keras\n",
    "\n",
    "import ase\n",
    "from ase import Atoms\n",
    "\n",
    "from tqdm.notebook import tqdm"
   ]
  },
  {
   "cell_type": "code",
   "execution_count": 31,
   "metadata": {},
   "outputs": [
    {
     "data": {
      "text/plain": [
       "True"
      ]
     },
     "execution_count": 31,
     "metadata": {},
     "output_type": "execute_result"
    }
   ],
   "source": [
    "tf.test.is_gpu_available()"
   ]
  },
  {
   "cell_type": "markdown",
   "metadata": {},
   "source": [
    "# 1. Autoencoder"
   ]
  },
  {
   "cell_type": "markdown",
   "metadata": {},
   "source": [
    "## 1.1 Make dataset"
   ]
  },
  {
   "cell_type": "code",
   "execution_count": 32,
   "metadata": {},
   "outputs": [
    {
     "name": "stdout",
     "output_type": "stream",
     "text": [
      "(100001, 22, 3) (100001,) (100001, 22, 3) (100001,)\n"
     ]
    }
   ],
   "source": [
    "# Set path\n",
    "path_r = Path(\"./MDtrajectory/reactant/dataset_reac.npz\")\n",
    "path_r_pe = Path(\"./MDtrajectory/reactant/dataset_reac_pe.npz\")\n",
    "path_p = Path(\"./MDtrajectory/product/dataset_prod.npz\")\n",
    "path_p_pe = Path(\"./MDtrajectory/product/dataset_prod_pe.npz\")\n",
    "\n",
    "#reactant\n",
    "data_r = np.load(path_r)[\"arr_0\"]\n",
    "data_r_pe = np.load(path_r_pe)[\"arr_0\"]\n",
    "data_r_pe = data_r_pe.astype(\"float32\")\n",
    "\n",
    "#product\n",
    "data_p = np.load(path_p)[\"arr_0\"]\n",
    "data_p_pe = np.load(path_p_pe)[\"arr_0\"]\n",
    "data_p_pe = data_p_pe.astype(\"float32\")\n",
    "\n",
    "print(data_r.shape, data_r_pe.shape, data_p.shape, data_p_pe.shape)"
   ]
  },
  {
   "cell_type": "code",
   "execution_count": 33,
   "metadata": {},
   "outputs": [],
   "source": [
    "# make dataset with same centroids\n",
    "coord_1 = data_r[0].astype(\"float32\")\n",
    "coord_2 = data_p[0].astype(\"float32\")\n",
    "\n",
    "centroids = np.mean(coord_1, axis=0, keepdims=True)\n",
    "coord_1 = coord_1 - centroids\n",
    "\n",
    "centroids = np.mean(coord_2, axis=0, keepdims=True)\n",
    "coord_2 = coord_2 - centroids"
   ]
  },
  {
   "cell_type": "code",
   "execution_count": 34,
   "metadata": {},
   "outputs": [
    {
     "data": {
      "image/png": "[encoded data removed]",
      "text/plain": [
       "<Figure size 720x576 with 1 Axes>"
      ]
     },
     "metadata": {
      "needs_background": "light"
     },
     "output_type": "display_data"
    }
   ],
   "source": [
    "plt.rcParams[\"figure.figsize\"] = (10,8)\n",
    "plt.hist(data_p_pe, bins=101, range=[0, 200], alpha = 0.9,color = \"lightblue\", edgecolor = \"black\", linewidth = 0.9, width = 0.9)\n",
    "\n",
    "plt.xlabel(\"Potential Energy [kcal/mol]\",fontsize = 30, labelpad = 5 ,family = 'Arial')\n",
    "plt.ylabel(\"# of snapshot\",fontsize = 30, labelpad = 10, family = 'Arial')\n",
    "plt.xticks(fontsize=20)\n",
    "plt.yticks(fontsize=20)\n",
    "plt.xlim(49,120.2)\n",
    "plt.ylim(0,8000)\n",
    "plt.savefig(\"PB_no_sampling.png\")\n",
    "plt.show()"
   ]
  },
  {
   "cell_type": "markdown",
   "metadata": {},
   "source": [
    "## 1.2 Reverse Sampling"
   ]
  },
  {
   "cell_type": "code",
   "execution_count": 35,
   "metadata": {},
   "outputs": [],
   "source": [
    "class Snapshot:\n",
    "    def __init__(self, r, e):\n",
    "        self.r = r\n",
    "        self.e = e\n",
    "\n",
    "def resample(coord, pe, size=100000, bins=100, eps=1e-3):\n",
    "    hist, x = np.histogram(pe, bins=201)\n",
    "    x = (x[1:] + x[:-1])*0.5 #set xticks\n",
    "    \n",
    "    prob = []\n",
    "    for e in pe:\n",
    "        i = np.argmin(np.abs(x-e))\n",
    "        prob.append(hist[i] + eps) #get P(E)\n",
    "    \n",
    "    prob = 1 / np.array(prob)\n",
    "    prob = prob / np.sum(prob) #normalize\n",
    "    \n",
    "    data = [Snapshot(r, e) for r, e in zip(coord, pe)]\n",
    "    \n",
    "    new_data = np.random.choice(data, size=size, p=prob) #sampling with probability 1/P(E)\n",
    "    \n",
    "    return new_data"
   ]
  },
  {
   "cell_type": "code",
   "execution_count": 36,
   "metadata": {},
   "outputs": [],
   "source": [
    "new_data_r = resample(data_r, data_r_pe, bins=1000)\n",
    "new_data_p = resample(data_p, data_p_pe, bins=1000)"
   ]
  },
  {
   "cell_type": "code",
   "execution_count": 37,
   "metadata": {},
   "outputs": [
    {
     "data": {
      "image/png": "[encoded data removed]",
      "text/plain": [
       "<Figure size 720x576 with 1 Axes>"
      ]
     },
     "metadata": {
      "needs_background": "light"
     },
     "output_type": "display_data"
    }
   ],
   "source": [
    "new_e = [s.e for s in new_data_p]\n",
    "\n",
    "plt.hist(new_e,  bins=101, range=[0, 200],alpha = 0.9,color = \"lightblue\", edgecolor = \"black\", linewidth = 0.9, width = 0.9)\n",
    "\n",
    "plt.rcParams[\"figure.figsize\"] = (10,8)\n",
    "plt.xlabel(\"Potential Energy [kcal/mol]\",fontsize = 30, labelpad = 5 ,family = 'Arial')\n",
    "plt.ylabel(\"# of snapshot\",fontsize = 30, labelpad = 10, family = 'Arial')\n",
    "plt.rcParams[\"figure.figsize\"] = (10,8)\n",
    "plt.xticks(fontsize=20)\n",
    "plt.yticks(fontsize=20)\n",
    "plt.xlim(49,120.2)\n",
    "plt.ylim(0,3700)\n",
    "plt.savefig(\"PB_sampling.png\")\n",
    "plt.show()"
   ]
  },
  {
   "cell_type": "code",
   "execution_count": 38,
   "metadata": {},
   "outputs": [],
   "source": [
    "data_r = [s.r for s in new_data_r]\n",
    "data_p = [s.r for s in new_data_p]"
   ]
  },
  {
   "cell_type": "markdown",
   "metadata": {},
   "source": [
    "## 1.3 Stacking R & P and Centroid"
   ]
  },
  {
   "cell_type": "code",
   "execution_count": 39,
   "metadata": {},
   "outputs": [
    {
     "name": "stdout",
     "output_type": "stream",
     "text": [
      "this cell stacks with reactant and product\n",
      "(200000, 22, 3)\n"
     ]
    }
   ],
   "source": [
    "#stacking the database of reactant and product\n",
    "data = np.vstack([data_r,data_p])\n",
    "data = data.astype(dtype=np.float32)\n",
    "print(\"this cell stacks with reactant and product\")\n",
    "print(data.shape)"
   ]
  },
  {
   "cell_type": "code",
   "execution_count": 40,
   "metadata": {},
   "outputs": [
    {
     "data": {
      "text/plain": [
       "(200000, 22, 3)"
      ]
     },
     "execution_count": 40,
     "metadata": {},
     "output_type": "execute_result"
    }
   ],
   "source": [
    "#Skip nomaralization\n",
    "\n",
    "# set the centeroids\n",
    "centroids = np.mean(data, axis=1, keepdims=True)\n",
    "data = data - centroids\n",
    "data.shape"
   ]
  },
  {
   "cell_type": "code",
   "execution_count": 41,
   "metadata": {},
   "outputs": [
    {
     "name": "stdout",
     "output_type": "stream",
     "text": [
      "150000 50000\n"
     ]
    }
   ],
   "source": [
    "train_idx = np.random.choice(200000, 150000, replace=False)\n",
    "test_idx = list(set(list(range(200000))) - set(train_idx))\n",
    "print(len(train_idx),len(test_idx))"
   ]
  },
  {
   "cell_type": "code",
   "execution_count": 42,
   "metadata": {},
   "outputs": [],
   "source": [
    "# split train and test dataset\n",
    "train_data = data[train_idx].astype(\"float32\")\n",
    "test_data = data[test_idx].astype(\"float32\")"
   ]
  },
  {
   "cell_type": "code",
   "execution_count": 59,
   "metadata": {},
   "outputs": [],
   "source": [
    "dataset = tf.data.Dataset.from_tensor_slices(train_data)\n",
    "dataset = dataset.cache()\n",
    "dataset = dataset.shuffle(buffer_size=50000)\n",
    "#dataset = dataset.repeat()\n",
    "dataset = dataset.batch(100)"
   ]
  },
  {
   "cell_type": "markdown",
   "metadata": {},
   "source": [
    "## 1.4 Training Autoencoder"
   ]
  },
  {
   "cell_type": "code",
   "execution_count": 60,
   "metadata": {},
   "outputs": [],
   "source": [
    "class Autoencoder(keras.Model):\n",
    "    def __init__(self):\n",
    "        super().__init__()\n",
    "        \n",
    "        self.dropout = keras.layers.Dropout(0.1)\n",
    "        \n",
    "        self.encoding_layers = [\n",
    "            keras.layers.Dense(units=256, activation=tf.nn.relu),\n",
    "            keras.layers.Dense(units=128, activation=tf.nn.relu),\n",
    "            keras.layers.Dense(units=64, activation=tf.nn.relu),\n",
    "            keras.layers.Dense(units=22*3, activation=tf.nn.tanh)\n",
    "        ]\n",
    "        \n",
    "        self.decoding_layers = [\n",
    "            keras.layers.Dense(units=64, activation=tf.nn.relu),\n",
    "            keras.layers.Dense(units=128, activation=tf.nn.relu),\n",
    "            keras.layers.Dense(units=256, activation=tf.nn.relu),\n",
    "            keras.layers.Dense(units=22*3),\n",
    "        ]\n",
    "        \n",
    "    def encode(self, x):\n",
    "        x = tf.reshape(x, shape=[-1, 22*3])\n",
    "        for layer in self.encoding_layers:\n",
    "            x = layer(x)\n",
    "            \n",
    "        return x\n",
    "    \n",
    "    def decode(self, x):\n",
    "        for layer in self.decoding_layers:\n",
    "            x = layer(x)\n",
    "        x = tf.reshape(x, shape=[-1, 22, 3])\n",
    "\n",
    "        return x\n",
    "    \n",
    "    def random_interpolate(self, x):\n",
    "        encoding = autoencoder.encode(x) #[B,18]\n",
    "        alpha = tf.random.uniform(shape=[tf.shape(x)[0], 1]) #[B,1]\n",
    "\n",
    "        indice = tf.random.shuffle(tf.range(tf.shape(x)[0]))\n",
    "        reordered_encoding = tf.gather(encoding, indice) #to solve the issues of gradients when using tf.random.shuffle\n",
    "        interpolated_encoding = alpha*encoding + (1-alpha)*reordered_encoding\n",
    "\n",
    "        decoding = autoencoder.decode(interpolated_encoding)\n",
    "        \n",
    "        return decoding\n",
    "\n",
    "    @tf.function\n",
    "    def call(self, x, training=False):\n",
    "        interp_x = self.random_interpolate(x)\n",
    "        #x = self.dropout(x, training=training)\n",
    "        x = self.encode(x)\n",
    "        x = self.decode(x)\n",
    "        \n",
    "        return x, interp_x"
   ]
  },
  {
   "cell_type": "code",
   "execution_count": 61,
   "metadata": {},
   "outputs": [],
   "source": [
    "@tf.function\n",
    "def calculate_dist_mat(r):\n",
    "    # r = (B, N, 3)\n",
    "    # r' = (B, 1, N, 3)\n",
    "    # r'' = (B, N, 1, 3)\n",
    "    # diffs = (B, N, N, 3)\n",
    "    diffs = r[:, tf.newaxis, :, :] - r[:, :, tf.newaxis, :]\n",
    "    # dist_mat = (B, N, N)\n",
    "    dist_mat = tf.sqrt(tf.reduce_sum(tf.square(diffs), axis=-1)+1e-8) \n",
    "      \n",
    "    return dist_mat\n",
    "\n",
    "## matrix\n",
    "@tf.function\n",
    "def calc_loss_xyz(y_true,y_pred):\n",
    "    y_true = tf.reshape(y_true,[-1,1])\n",
    "    y_pred = tf.reshape(y_pred,[-1,1])\n",
    "    \n",
    "    mse_xyz = tf.reduce_mean(tf.square(y_true-y_pred))\n",
    "    return mse_xyz\n",
    "\n",
    "@tf.function\n",
    "def calc_loss_dist(y_true,y_pred):\n",
    "    dist_true = calculate_dist_mat(y_true)\n",
    "    dist_pred = calculate_dist_mat(y_pred)\n",
    "\n",
    "    mse_dist = tf.reduce_mean(tf.abs(dist_true - dist_pred))\n",
    "    \n",
    "    return mse_dist\n",
    "\n",
    "@tf.function\n",
    "def calc_loss_interp(interp_x, cutoff_interp_decoding = 0.8):   \n",
    "    \n",
    "    dist_mat_decoding = calculate_dist_mat(interp_x) #[B,6,6]    \n",
    "\n",
    "\n",
    "    mask = tf.math.logical_and(tf.greater(dist_mat_decoding, 1e-3), tf.less(dist_mat_decoding, cutoff_interp_decoding))\n",
    "    over_values = tf.boolean_mask(dist_mat_decoding, mask)\n",
    "    \n",
    "    if tf.shape(over_values)[0] == 0:\n",
    "        return tf.constant(0.0)\n",
    "    else:\n",
    "        diff = over_values - cutoff_interp_decoding\n",
    "        loss_interp_dist = tf.reduce_mean(tf.square(diff))\n",
    "        return loss_interp_dist\n",
    "\n",
    "\n",
    "\n",
    "## loss\n",
    "@tf.function\n",
    "def calculate_loss(y_true,y_pred,interp_x):\n",
    "    \n",
    "    mse_xyz = calc_loss_xyz(y_true,y_pred)\n",
    "    mae_dist = calc_loss_dist(y_true,y_pred)    \n",
    "    loss_interp = calc_loss_interp(interp_x)\n",
    "    \n",
    "    # Setting loss weight\n",
    "    final_loss_xyz = mse_xyz\n",
    "    final_loss_dist = mae_dist * 10\n",
    "    final_loss_interp = loss_interp * 5\n",
    "    \n",
    "    total_loss = final_loss_xyz  + final_loss_dist + final_loss_interp\n",
    "    \n",
    "    return total_loss, final_loss_xyz, final_loss_dist, final_loss_interp "
   ]
  },
  {
   "cell_type": "code",
   "execution_count": 62,
   "metadata": {},
   "outputs": [],
   "source": [
    "autoencoder = Autoencoder()\n",
    "optimizer = tf.optimizers.Adam(learning_rate=0.001)"
   ]
  },
  {
   "cell_type": "code",
   "execution_count": 63,
   "metadata": {},
   "outputs": [],
   "source": [
    "@tf.function\n",
    "def train_one_step(model, samples, optimizer):\n",
    "    with tf.GradientTape() as tape:\n",
    "        y_pred, interp_x = model(samples, training=True)\n",
    "        loss, final_loss_xyz, final_loss_dist, final_loss_interp = calculate_loss(y_true=samples, y_pred=y_pred, interp_x=interp_x)\n",
    "        \n",
    "    grads = tape.gradient(loss, model.weights)\n",
    "    optimizer.apply_gradients(zip(grads, model.weights))\n",
    "    \n",
    "    return y_pred, loss, final_loss_xyz, final_loss_dist, final_loss_interp"
   ]
  },
  {
   "cell_type": "code",
   "execution_count": 48,
   "metadata": {
    "scrolled": true
   },
   "outputs": [
    {
     "name": "stdout",
     "output_type": "stream",
     "text": [
      "Epoch           Tota_loss       xyz_loss      dist_loss    interp_loss\n",
      "1                  6.4355         1.8825         4.5399         0.0130\n",
      "\n",
      "Epoch           Tota_loss       xyz_loss      dist_loss    interp_loss\n",
      "2                  4.6808         0.7799         3.8864         0.0145\n",
      "\n",
      "Epoch           Tota_loss       xyz_loss      dist_loss    interp_loss\n",
      "3                  4.3810         0.6770         3.6897         0.0142\n",
      "\n",
      "Epoch           Tota_loss       xyz_loss      dist_loss    interp_loss\n",
      "4                  4.2315         0.6404         3.5743         0.0167\n",
      "\n",
      "Epoch           Tota_loss       xyz_loss      dist_loss    interp_loss\n",
      "5                  4.1227         0.6174         3.4866         0.0187\n",
      "\n",
      "Epoch           Tota_loss       xyz_loss      dist_loss    interp_loss\n",
      "6                  4.0234         0.5961         3.4074         0.0199\n",
      "\n",
      "Epoch           Tota_loss       xyz_loss      dist_loss    interp_loss\n",
      "7                  3.9504         0.5824         3.3469         0.0211\n",
      "\n",
      "Epoch           Tota_loss       xyz_loss      dist_loss    interp_loss\n",
      "8                  3.8849         0.5697         3.2935         0.0217\n",
      "\n",
      "Epoch           Tota_loss       xyz_loss      dist_loss    interp_loss\n",
      "9                  3.8633         0.5699         3.2701         0.0233\n",
      "\n",
      "Epoch           Tota_loss       xyz_loss      dist_loss    interp_loss\n",
      "10                 3.7849         0.5496         3.2109         0.0243\n",
      "\n",
      "Epoch           Tota_loss       xyz_loss      dist_loss    interp_loss\n",
      "11                 3.7562         0.5456         3.1860         0.0246\n",
      "\n",
      "Epoch           Tota_loss       xyz_loss      dist_loss    interp_loss\n",
      "12                 3.7487         0.5426         3.1785         0.0276\n",
      "\n",
      "Epoch           Tota_loss       xyz_loss      dist_loss    interp_loss\n",
      "13                 3.6957         0.5344         3.1344         0.0269\n",
      "\n",
      "Epoch           Tota_loss       xyz_loss      dist_loss    interp_loss\n",
      "14                 3.6620         0.5253         3.1085         0.0282\n",
      "\n",
      "Epoch           Tota_loss       xyz_loss      dist_loss    interp_loss\n",
      "15                 3.6258         0.5182         3.0785         0.0290\n",
      "\n",
      "Epoch           Tota_loss       xyz_loss      dist_loss    interp_loss\n",
      "16                 3.6062         0.5138         3.0629         0.0295\n",
      "\n",
      "Epoch           Tota_loss       xyz_loss      dist_loss    interp_loss\n",
      "17                 3.5848         0.5086         3.0454         0.0308\n",
      "\n",
      "Epoch           Tota_loss       xyz_loss      dist_loss    interp_loss\n",
      "18                 3.5676         0.5052         3.0309         0.0315\n",
      "\n",
      "Epoch           Tota_loss       xyz_loss      dist_loss    interp_loss\n",
      "19                 3.5374         0.4999         3.0056         0.0318\n",
      "\n",
      "Epoch           Tota_loss       xyz_loss      dist_loss    interp_loss\n",
      "20                 3.5270         0.4968         2.9982         0.0320\n",
      "\n",
      "Epoch           Tota_loss       xyz_loss      dist_loss    interp_loss\n",
      "21                 3.5386         0.4981         3.0062         0.0343\n",
      "\n",
      "Epoch           Tota_loss       xyz_loss      dist_loss    interp_loss\n",
      "22                 3.4976         0.4930         2.9718         0.0328\n",
      "\n",
      "Epoch           Tota_loss       xyz_loss      dist_loss    interp_loss\n",
      "23                 3.4797         0.4874         2.9580         0.0342\n",
      "\n",
      "Epoch           Tota_loss       xyz_loss      dist_loss    interp_loss\n",
      "24                 3.4704         0.4861         2.9500         0.0344\n",
      "\n",
      "Epoch           Tota_loss       xyz_loss      dist_loss    interp_loss\n",
      "25                 3.4684         0.4848         2.9487         0.0349\n",
      "\n",
      "Epoch           Tota_loss       xyz_loss      dist_loss    interp_loss\n",
      "26                 3.4581         0.4850         2.9387         0.0344\n",
      "\n",
      "Epoch           Tota_loss       xyz_loss      dist_loss    interp_loss\n",
      "27                 3.4737         0.4875         2.9499         0.0363\n",
      "\n",
      "Epoch           Tota_loss       xyz_loss      dist_loss    interp_loss\n",
      "28                 3.4455         0.4803         2.9292         0.0361\n",
      "\n",
      "Epoch           Tota_loss       xyz_loss      dist_loss    interp_loss\n",
      "29                 3.4547         0.4826         2.9349         0.0372\n",
      "\n",
      "Epoch           Tota_loss       xyz_loss      dist_loss    interp_loss\n",
      "30                 3.4759         0.4891         2.9498         0.0370\n",
      "\n",
      "Epoch           Tota_loss       xyz_loss      dist_loss    interp_loss\n",
      "31                 3.4691         0.4882         2.9435         0.0375\n",
      "\n",
      "Epoch           Tota_loss       xyz_loss      dist_loss    interp_loss\n",
      "32                 3.4210         0.4772         2.9070         0.0368\n",
      "\n",
      "Epoch           Tota_loss       xyz_loss      dist_loss    interp_loss\n",
      "33                 3.4285         0.4765         2.9133         0.0387\n",
      "\n",
      "Epoch           Tota_loss       xyz_loss      dist_loss    interp_loss\n",
      "34                 3.4538         0.4823         2.9315         0.0400\n",
      "\n",
      "Epoch           Tota_loss       xyz_loss      dist_loss    interp_loss\n",
      "35                 3.4291         0.4776         2.9134         0.0381\n",
      "\n",
      "Epoch           Tota_loss       xyz_loss      dist_loss    interp_loss\n",
      "36                 3.4065         0.4735         2.8939         0.0391\n",
      "\n",
      "Epoch           Tota_loss       xyz_loss      dist_loss    interp_loss\n",
      "37                 3.3939         0.4706         2.8841         0.0392\n",
      "\n",
      "Epoch           Tota_loss       xyz_loss      dist_loss    interp_loss\n",
      "38                 3.4494         0.4823         2.9264         0.0408\n",
      "\n",
      "Epoch           Tota_loss       xyz_loss      dist_loss    interp_loss\n",
      "39                 3.3833         0.4687         2.8754         0.0392\n",
      "\n",
      "Epoch           Tota_loss       xyz_loss      dist_loss    interp_loss\n",
      "40                 3.3746         0.4669         2.8679         0.0399\n",
      "\n",
      "Epoch           Tota_loss       xyz_loss      dist_loss    interp_loss\n",
      "41                 3.3678         0.4631         2.8639         0.0408\n",
      "\n",
      "Epoch           Tota_loss       xyz_loss      dist_loss    interp_loss\n",
      "42                 3.3724         0.4634         2.8671         0.0418\n",
      "\n",
      "Epoch           Tota_loss       xyz_loss      dist_loss    interp_loss\n",
      "43                 3.3556         0.4595         2.8548         0.0413\n",
      "\n",
      "Epoch           Tota_loss       xyz_loss      dist_loss    interp_loss\n",
      "44                 3.3451         0.4586         2.8435         0.0430\n",
      "\n",
      "Epoch           Tota_loss       xyz_loss      dist_loss    interp_loss\n",
      "45                 3.3532         0.4614         2.8498         0.0420\n",
      "\n",
      "Epoch           Tota_loss       xyz_loss      dist_loss    interp_loss\n",
      "46                 3.3573         0.4624         2.8525         0.0424\n",
      "\n",
      "Epoch           Tota_loss       xyz_loss      dist_loss    interp_loss\n",
      "47                 3.3432         0.4586         2.8425         0.0421\n",
      "\n",
      "Epoch           Tota_loss       xyz_loss      dist_loss    interp_loss\n",
      "48                 3.3711         0.4637         2.8635         0.0438\n",
      "\n",
      "Epoch           Tota_loss       xyz_loss      dist_loss    interp_loss\n",
      "49                 3.3514         0.4597         2.8492         0.0424\n",
      "\n",
      "Epoch           Tota_loss       xyz_loss      dist_loss    interp_loss\n",
      "50                 3.3488         0.4605         2.8446         0.0437\n",
      "\n"
     ]
    }
   ],
   "source": [
    "n_epoch = 50\n",
    "batch_size = 100\n",
    "\n",
    "np_ave_loss = []\n",
    "list_test_loss = []\n",
    "for epoch in range(n_epoch):\n",
    "\n",
    "    print(f\"{'Epoch':<10}{'Tota_loss':>15}{'xyz_loss':>15}{'dist_loss':>15}{'interp_loss':>15}\")\n",
    "\n",
    "    # Loss\n",
    "    n_ave = 0\n",
    "    ave_loss = np.array([0,0,0,0])  \n",
    "\n",
    "    for i, samples in enumerate(dataset):\n",
    "        y_pred, loss, final_loss_xyz, final_loss_dist, final_loss_interp = train_one_step(autoencoder, samples, optimizer)\n",
    "\n",
    "\n",
    "        n_ave += 1\n",
    "        ave_loss = ave_loss + (np.array([loss,final_loss_xyz,final_loss_dist,final_loss_interp]) - ave_loss)/n_ave\n",
    "        if i%100 == 0:                        \n",
    "            print(f\"\\r{epoch+1:<10}{ave_loss[0]:15.4f}{ave_loss[1]:15.4f}{ave_loss[2]:15.4f}{ave_loss[3]:15.4f}\", end=\"\")\n",
    "    print(\"\\n\")\n",
    "    \n",
    "    test_pred, test_interp = autoencoder(test_data)\n",
    "    (test_total_loss,test_loss_xyz,test_loss_dist,test_loss_interp) = calculate_loss(test_data, test_pred, test_interp)\n",
    "    list_test_loss.append(test_total_loss.numpy())      \n",
    "    \n",
    "    np_ave_loss = np.concatenate([np_ave_loss,ave_loss],axis=0)"
   ]
  },
  {
   "cell_type": "markdown",
   "metadata": {},
   "source": [
    "## 1.5 Generate initial guess for NEB"
   ]
  },
  {
   "cell_type": "code",
   "execution_count": 49,
   "metadata": {},
   "outputs": [],
   "source": [
    "encoding_1 = autoencoder.encode(coord_1)\n",
    "encoding_2 = autoencoder.encode(coord_2)\n",
    "\n",
    "decoded_mats = [coord_1]\n",
    "#for s in np.arange(0, 1+1e-5, 0.01):\n",
    "for s in np.arange(0, 1, 0.067):\n",
    "    interpolated_encoding = (1-s)*encoding_1 + s*encoding_2\n",
    "    #print(interpolated_encoding)\n",
    "    decoded = autoencoder.decode(interpolated_encoding)\n",
    "    decoded = np.reshape(decoded, [22, 3])\n",
    "    \n",
    "    decoded_mats.append(decoded)\n",
    "\n",
    "decoded_mats += [coord_2]"
   ]
  },
  {
   "cell_type": "code",
   "execution_count": 50,
   "metadata": {},
   "outputs": [],
   "source": [
    "#decoded_mats\n",
    "atoms_list = []\n",
    "for i, mat in enumerate(decoded_mats):\n",
    "    st = Atoms(symbols = 'H12C6N2O2', positions= decoded_mats[i])\n",
    "    atoms_list.append(st)"
   ]
  },
  {
   "cell_type": "code",
   "execution_count": 51,
   "metadata": {},
   "outputs": [],
   "source": [
    "def atoms_list_to_xyz(filename, atoms_list):\n",
    "    with open(filename, \"w\") as f:\n",
    "        for atoms in atoms_list:\n",
    "            f.write(\"%d\\n\\n\" % len(atoms))\n",
    "            for sym, pos in zip(atoms.symbols, atoms.positions):\n",
    "                f.write(\"{} {} {} {}\\n\".format(sym, *pos))"
   ]
  },
  {
   "cell_type": "code",
   "execution_count": 52,
   "metadata": {},
   "outputs": [],
   "source": [
    "atoms_list_to_xyz(\"./Initialguess/alaN_AE.xyz\", atoms_list)"
   ]
  },
  {
   "cell_type": "markdown",
   "metadata": {},
   "source": [
    "# 2. LI"
   ]
  },
  {
   "cell_type": "code",
   "execution_count": 53,
   "metadata": {},
   "outputs": [],
   "source": [
    "from ase.neb import NEB\n",
    "from ase.optimize import MDMin, BFGS, FIRE\n",
    "from ase import Atoms"
   ]
  },
  {
   "cell_type": "code",
   "execution_count": 54,
   "metadata": {},
   "outputs": [],
   "source": [
    "initials = Atoms(symbols = 'H12C6N2O2', positions= coord_1)\n",
    "finals = Atoms(symbols = 'H12C6N2O2', positions= coord_2)\n",
    "images = [initials]\n",
    "images += [initials.copy() for i in range(15)]\n",
    "images += [finals]"
   ]
  },
  {
   "cell_type": "code",
   "execution_count": 55,
   "metadata": {},
   "outputs": [],
   "source": [
    "neb = NEB(images)\n",
    "neb.interpolate()\n",
    "matrix = neb.get_positions()\n",
    "# (B, 22, 3)\n",
    "matrix = matrix.reshape(15,22,3)\n",
    "#print(matrix)"
   ]
  },
  {
   "cell_type": "code",
   "execution_count": 56,
   "metadata": {},
   "outputs": [],
   "source": [
    "atoms_list = []\n",
    "atoms_list.append(initials)\n",
    "for i, image in enumerate(matrix):\n",
    "    st = Atoms(symbols = 'H12C6N2O2', positions= image)\n",
    "    atoms_list.append(st)\n",
    "atoms_list.append(finals)\n",
    "atoms_list_to_xyz(\"./Initialguess/alaN_LI.xyz\", atoms_list)"
   ]
  },
  {
   "cell_type": "markdown",
   "metadata": {},
   "source": [
    "## 3. IDPP"
   ]
  },
  {
   "cell_type": "code",
   "execution_count": 57,
   "metadata": {},
   "outputs": [
    {
     "name": "stderr",
     "output_type": "stream",
     "text": [
      "/home/hspark8/anaconda3/envs/AE/lib/python3.6/site-packages/ase/utils/__init__.py:530: FutureWarning: Please use NEB's interpolate(method='idpp') method or directly call the idpp_interpolate function from ase.neb\n",
      "  warnings.warn(warning)\n"
     ]
    }
   ],
   "source": [
    "neb = NEB(images)\n",
    "neb.idpp_interpolate(optimizer=FIRE, fmax=0.01, steps=1000)\n",
    "\n",
    "matrix = neb.get_positions()\n",
    "# (B, 22, 3)\n",
    "matrix = matrix.reshape(15,22,3)\n",
    "#rint(matrix)"
   ]
  },
  {
   "cell_type": "code",
   "execution_count": 58,
   "metadata": {},
   "outputs": [],
   "source": [
    "atoms_list = []\n",
    "atoms_list.append(initials)\n",
    "for i, image in enumerate(matrix):\n",
    "    st = Atoms(symbols = 'H12C6N2O2', positions= image)\n",
    "    atoms_list.append(st)\n",
    "atoms_list.append(finals)\n",
    "atoms_list_to_xyz(\"./Initialguess/alaN_IDPP.xyz\", atoms_list)"
   ]
  }
 ],
 "metadata": {
  "kernelspec": {
   "display_name": "Python 3",
   "language": "python",
   "name": "python3"
  },
  "language_info": {
   "codemirror_mode": {
    "name": "ipython",
    "version": 3
   },
   "file_extension": ".py",
   "mimetype": "text/x-python",
   "name": "python",
   "nbconvert_exporter": "python",
   "pygments_lexer": "ipython3",
   "version": "3.6.12"
  }
 },
 "nbformat": 4,
 "nbformat_minor": 4
}

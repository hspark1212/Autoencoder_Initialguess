{
 "cells": [
  {
   "cell_type": "code",
   "execution_count": 1,
   "metadata": {},
   "outputs": [
    {
     "name": "stdout",
     "output_type": "stream",
     "text": [
      "Fri Oct 16 16:19:01 2020       \n",
      "+-----------------------------------------------------------------------------+\n",
      "| NVIDIA-SMI 450.51.06    Driver Version: 450.51.06    CUDA Version: 11.0     |\n",
      "|-------------------------------+----------------------+----------------------+\n",
      "| GPU  Name        Persistence-M| Bus-Id        Disp.A | Volatile Uncorr. ECC |\n",
      "| Fan  Temp  Perf  Pwr:Usage/Cap|         Memory-Usage | GPU-Util  Compute M. |\n",
      "|                               |                      |               MIG M. |\n",
      "|===============================+======================+======================|\n",
      "|   0  GeForce RTX 208...  On   | 00000000:01:00.0 Off |                  N/A |\n",
      "| 41%   50C    P2    59W / 250W |  10451MiB / 11019MiB |      3%      Default |\n",
      "|                               |                      |                  N/A |\n",
      "+-------------------------------+----------------------+----------------------+\n",
      "|   1  GeForce RTX 208...  On   | 00000000:02:00.0 Off |                  N/A |\n",
      "| 27%   38C    P8     1W / 250W |      6MiB / 11019MiB |      0%      Default |\n",
      "|                               |                      |                  N/A |\n",
      "+-------------------------------+----------------------+----------------------+\n",
      "                                                                               \n",
      "+-----------------------------------------------------------------------------+\n",
      "| Processes:                                                                  |\n",
      "|  GPU   GI   CI        PID   Type   Process name                  GPU Memory |\n",
      "|        ID   ID                                                   Usage      |\n",
      "|=============================================================================|\n",
      "|    0   N/A  N/A       993      G   /usr/lib/xorg/Xorg                  9MiB |\n",
      "|    0   N/A  N/A      1049      G   /usr/bin/gnome-shell               14MiB |\n",
      "|    0   N/A  N/A     16094      C   ...nvs/textmining/bin/python    10423MiB |\n",
      "|    1   N/A  N/A       993      G   /usr/lib/xorg/Xorg                  4MiB |\n",
      "+-----------------------------------------------------------------------------+\n"
     ]
    }
   ],
   "source": [
    "!nvidia-smi"
   ]
  },
  {
   "cell_type": "code",
   "execution_count": 2,
   "metadata": {},
   "outputs": [],
   "source": [
    "import os\n",
    "os.environ[\"CUDA_VISIBLE_DEVICES\"] = \"1\"\n",
    "\n",
    "from pathlib import Path\n",
    "\n",
    "import numpy as np\n",
    "import matplotlib.pyplot as plt\n",
    "\n",
    "import tensorflow as tf\n",
    "import tensorflow.keras as keras\n",
    "\n",
    "import ase\n",
    "from ase import Atoms\n",
    "\n",
    "from tqdm.notebook import tqdm"
   ]
  },
  {
   "cell_type": "code",
   "execution_count": 3,
   "metadata": {},
   "outputs": [
    {
     "name": "stdout",
     "output_type": "stream",
     "text": [
      "WARNING:tensorflow:From <ipython-input-3-17bb7203622b>:1: is_gpu_available (from tensorflow.python.framework.test_util) is deprecated and will be removed in a future version.\n",
      "Instructions for updating:\n",
      "Use `tf.config.list_physical_devices('GPU')` instead.\n"
     ]
    },
    {
     "data": {
      "text/plain": [
       "True"
      ]
     },
     "execution_count": 3,
     "metadata": {},
     "output_type": "execute_result"
    }
   ],
   "source": [
    "tf.test.is_gpu_available()"
   ]
  },
  {
   "cell_type": "markdown",
   "metadata": {},
   "source": [
    "# 1. Autoencoder"
   ]
  },
  {
   "cell_type": "markdown",
   "metadata": {},
   "source": [
    "## 1.1 Make dataset"
   ]
  },
  {
   "cell_type": "code",
   "execution_count": 4,
   "metadata": {},
   "outputs": [
    {
     "name": "stdout",
     "output_type": "stream",
     "text": [
      "(100001, 6, 3) (100001,) (100001, 6, 3) (100001,)\n"
     ]
    }
   ],
   "source": [
    "# Set path\n",
    "path_r = Path(\"./MDtrajectory/reactant/dataset_reac.npz\")\n",
    "path_r_pe = Path(\"./MDtrajectory/reactant/dataset_reac_pe.npz\")\n",
    "path_p = Path(\"./MDtrajectory/product/dataset_prod.npz\")\n",
    "path_p_pe = Path(\"./MDtrajectory/product/dataset_prod_pe.npz\")\n",
    "\n",
    "#reactant\n",
    "data_r = np.load(path_r)[\"arr_0\"]\n",
    "data_r_pe = np.load(path_r_pe)[\"arr_0\"]\n",
    "data_r_pe = data_r_pe.astype(\"float32\")\n",
    "\n",
    "#product\n",
    "data_p = np.load(path_p)[\"arr_0\"]\n",
    "data_p_pe = np.load(path_p_pe)[\"arr_0\"]\n",
    "data_p_pe = data_p_pe.astype(\"float32\")\n",
    "\n",
    "print(data_r.shape, data_r_pe.shape, data_p.shape, data_p_pe.shape)"
   ]
  },
  {
   "cell_type": "code",
   "execution_count": 5,
   "metadata": {},
   "outputs": [],
   "source": [
    "## Making validation set\n",
    "coord_1 = data_r[0].astype(\"float32\")\n",
    "coord_2 = data_p[0].astype(\"float32\")\n",
    "\n",
    "centroids = np.mean(coord_1, axis=0, keepdims=True)\n",
    "coord_1 = coord_1 - centroids\n",
    "\n",
    "centroids = np.mean(coord_2, axis=0, keepdims=True)\n",
    "coord_2 = coord_2 - centroids"
   ]
  },
  {
   "cell_type": "code",
   "execution_count": 6,
   "metadata": {},
   "outputs": [
    {
     "name": "stderr",
     "output_type": "stream",
     "text": [
      "findfont: Font family ['Arial'] not found. Falling back to DejaVu Sans.\n"
     ]
    },
    {
     "data": {
      "image/png": "[encoded data removed]",
      "text/plain": [
       "<Figure size 720x576 with 1 Axes>"
      ]
     },
     "metadata": {
      "needs_background": "light"
     },
     "output_type": "display_data"
    }
   ],
   "source": [
    "plt.rcParams[\"figure.figsize\"] = (10,8)\n",
    "plt.hist(data_p_pe, bins=101, range=[0, 200], alpha = 0.9,color = \"lightblue\", edgecolor = \"black\", linewidth = 0.9, width = 0.9)\n",
    "\n",
    "plt.xlabel(\"Potential Energy [kcal/mol]\",fontsize = 30, labelpad = 5 ,family = 'Arial')\n",
    "plt.ylabel(\"# of snapshot\",fontsize = 30, labelpad = 10, family = 'Arial')\n",
    "plt.xticks(fontsize=20)\n",
    "plt.yticks(fontsize=20)\n",
    "plt.xlim(5, 50)\n",
    "plt.ylim(0, 14000)\n",
    "plt.savefig(\"PB_no_sampling.png\")\n",
    "plt.show()"
   ]
  },
  {
   "cell_type": "code",
   "execution_count": 7,
   "metadata": {},
   "outputs": [],
   "source": [
    "class Snapshot:\n",
    "    def __init__(self, r, e):\n",
    "        self.r = r\n",
    "        self.e = e\n",
    "\n",
    "def resample(coord, pe, size=100000, bins=100, eps=1e-3):\n",
    "    hist, x = np.histogram(pe, bins=201)\n",
    "    x = (x[1:] + x[:-1])*0.5 #set xticks\n",
    "    \n",
    "    prob = []\n",
    "    for e in pe:\n",
    "        i = np.argmin(np.abs(x-e))\n",
    "        prob.append(hist[i] + eps) #get P(E)\n",
    "    \n",
    "    prob = 1 / np.array(prob)\n",
    "    prob = prob / np.sum(prob) #normalize\n",
    "    \n",
    "    data = [Snapshot(r, e) for r, e in zip(coord, pe)]\n",
    "    \n",
    "    new_data = np.random.choice(data, size=size, p=prob) #sampling with probability 1/P(E)\n",
    "    \n",
    "    return new_data"
   ]
  },
  {
   "cell_type": "code",
   "execution_count": 8,
   "metadata": {},
   "outputs": [],
   "source": [
    "new_data_r = resample(data_r, data_r_pe, bins=1000)\n",
    "new_data_p = resample(data_p, data_p_pe, bins=1000)"
   ]
  },
  {
   "cell_type": "code",
   "execution_count": 9,
   "metadata": {},
   "outputs": [
    {
     "data": {
      "image/png": "[encoded data removed]",
      "text/plain": [
       "<Figure size 720x576 with 1 Axes>"
      ]
     },
     "metadata": {
      "needs_background": "light"
     },
     "output_type": "display_data"
    }
   ],
   "source": [
    "new_e = [s.e for s in new_data_p]\n",
    "\n",
    "plt.hist(new_e,  bins=101, range=[0, 200],alpha = 0.9,color = \"lightblue\", edgecolor = \"black\", linewidth = 0.9, width = 0.9)\n",
    "\n",
    "plt.rcParams[\"figure.figsize\"] = (10,8)\n",
    "plt.xlabel(\"Potential Energy [kcal/mol]\",fontsize = 30, labelpad = 5 ,family = 'Arial')\n",
    "plt.ylabel(\"# of snapshot\",fontsize = 30, labelpad = 10, family = 'Arial')\n",
    "plt.rcParams[\"figure.figsize\"] = (10,8)\n",
    "plt.xticks(fontsize=20)\n",
    "plt.yticks(fontsize=20)\n",
    "plt.xlim(5,50)\n",
    "plt.ylim(0, 6000)\n",
    "plt.savefig(\"PB_sampling.png\")\n",
    "plt.show()"
   ]
  },
  {
   "cell_type": "code",
   "execution_count": 10,
   "metadata": {},
   "outputs": [],
   "source": [
    "data_r = [s.r for s in new_data_r]\n",
    "data_p = [s.r for s in new_data_p]"
   ]
  },
  {
   "cell_type": "markdown",
   "metadata": {},
   "source": [
    "## 1.3 Stacking R & P and Centroid"
   ]
  },
  {
   "cell_type": "code",
   "execution_count": 11,
   "metadata": {},
   "outputs": [
    {
     "name": "stdout",
     "output_type": "stream",
     "text": [
      "this cell stacks with reactant and product\n",
      "(200000, 6, 3)\n"
     ]
    }
   ],
   "source": [
    "#stacking the database of reactant and product\n",
    "data = np.vstack([data_r,data_p])\n",
    "data = data.astype(dtype=np.float32)\n",
    "print(\"this cell stacks with reactant and product\")\n",
    "print(data.shape)"
   ]
  },
  {
   "cell_type": "code",
   "execution_count": 12,
   "metadata": {},
   "outputs": [
    {
     "data": {
      "text/plain": [
       "(200000, 6, 3)"
      ]
     },
     "execution_count": 12,
     "metadata": {},
     "output_type": "execute_result"
    }
   ],
   "source": [
    "#Skip nomaralization\n",
    "\n",
    "# set the centeroids\n",
    "centroids = np.mean(data, axis=1, keepdims=True)\n",
    "data = data - centroids\n",
    "data.shape"
   ]
  },
  {
   "cell_type": "code",
   "execution_count": 13,
   "metadata": {},
   "outputs": [
    {
     "name": "stdout",
     "output_type": "stream",
     "text": [
      "150000 50000\n"
     ]
    }
   ],
   "source": [
    "train_idx = np.random.choice(200000, 150000, replace=False)\n",
    "test_idx = list(set(list(range(200000))) - set(train_idx))\n",
    "print(len(train_idx),len(test_idx))"
   ]
  },
  {
   "cell_type": "code",
   "execution_count": 14,
   "metadata": {},
   "outputs": [],
   "source": [
    "# split train and test dataset\n",
    "train_data = data[train_idx].astype(\"float32\")\n",
    "test_data = data[test_idx].astype(\"float32\")"
   ]
  },
  {
   "cell_type": "code",
   "execution_count": 15,
   "metadata": {},
   "outputs": [],
   "source": [
    "dataset = tf.data.Dataset.from_tensor_slices(train_data)\n",
    "dataset = dataset.cache()\n",
    "dataset = dataset.shuffle(buffer_size=50000)\n",
    "#dataset = dataset.repeat()\n",
    "dataset = dataset.batch(100)"
   ]
  },
  {
   "cell_type": "markdown",
   "metadata": {},
   "source": [
    "## 1.4 Traninig Autoencoder"
   ]
  },
  {
   "cell_type": "code",
   "execution_count": 16,
   "metadata": {},
   "outputs": [],
   "source": [
    "class Autoencoder(keras.Model):\n",
    "    def __init__(self):\n",
    "        super().__init__()\n",
    "        \n",
    "        self.dropout = keras.layers.Dropout(0.1)\n",
    "        \n",
    "        self.encoding_layers = [\n",
    "            keras.layers.Dense(units=128, activation=tf.nn.relu),\n",
    "            keras.layers.Dense(units=64, activation=tf.nn.relu),\n",
    "            keras.layers.Dense(units=32, activation=tf.nn.relu),\n",
    "            keras.layers.Dense(units=6*3, activation=tf.nn.tanh)\n",
    "        ]\n",
    "        \n",
    "        self.decoding_layers = [\n",
    "            keras.layers.Dense(units=32, activation=tf.nn.relu),\n",
    "            keras.layers.Dense(units=64, activation=tf.nn.relu),\n",
    "            keras.layers.Dense(units=128, activation=tf.nn.relu),\n",
    "            keras.layers.Dense(units=6*3),\n",
    "        ]\n",
    "        \n",
    "    def encode(self, x):\n",
    "        x = tf.reshape(x, shape=[-1, 6*3])\n",
    "        for layer in self.encoding_layers:\n",
    "            x = layer(x)\n",
    "            \n",
    "        return x\n",
    "    \n",
    "    def decode(self, x):\n",
    "        for layer in self.decoding_layers:\n",
    "            x = layer(x)\n",
    "        x = tf.reshape(x, shape=[-1, 6, 3])\n",
    "\n",
    "        return x\n",
    "    \n",
    "    def random_interpolate(self, x):\n",
    "        encoding = autoencoder.encode(x) #[B,18]\n",
    "        alpha = tf.random.uniform(shape=[tf.shape(x)[0], 1]) #[B,1]\n",
    "\n",
    "        indice = tf.random.shuffle(tf.range(tf.shape(x)[0]))\n",
    "        reordered_encoding = tf.gather(encoding, indice) #to solve the issues of gradients when using tf.random.shuffle\n",
    "        interpolated_encoding = alpha*encoding + (1-alpha)*reordered_encoding\n",
    "\n",
    "        decoding = autoencoder.decode(interpolated_encoding)\n",
    "        \n",
    "        return decoding\n",
    "\n",
    "    @tf.function\n",
    "    def call(self, x, training=False):\n",
    "        interp_x = self.random_interpolate(x)\n",
    "        #x = self.dropout(x, training=training)\n",
    "        x = self.encode(x)\n",
    "        x = self.decode(x)\n",
    "        \n",
    "        return x, interp_x"
   ]
  },
  {
   "cell_type": "code",
   "execution_count": 17,
   "metadata": {},
   "outputs": [],
   "source": [
    "@tf.function\n",
    "def calculate_dist_mat(r):\n",
    "    # r = (B, N, 3)\n",
    "    # r' = (B, 1, N, 3)\n",
    "    # r'' = (B, N, 1, 3)\n",
    "    # diffs = (B, N, N, 3)\n",
    "    diffs = r[:, tf.newaxis, :, :] - r[:, :, tf.newaxis, :]\n",
    "    # dist_mat = (B, N, N)\n",
    "    dist_mat = tf.sqrt(tf.reduce_sum(tf.square(diffs), axis=-1)+1e-8) \n",
    "      \n",
    "    return dist_mat\n",
    "\n",
    "## matrix\n",
    "@tf.function\n",
    "def calc_loss_xyz(y_true,y_pred):\n",
    "    y_true = tf.reshape(y_true,[-1,1])\n",
    "    y_pred = tf.reshape(y_pred,[-1,1])\n",
    "    \n",
    "    mse_xyz = tf.reduce_mean(tf.square(y_true-y_pred))\n",
    "    return mse_xyz\n",
    "\n",
    "@tf.function\n",
    "def calc_loss_dist(y_true,y_pred):\n",
    "    dist_true = calculate_dist_mat(y_true)\n",
    "    dist_pred = calculate_dist_mat(y_pred)\n",
    "\n",
    "    mse_dist = tf.reduce_mean(tf.square(dist_true - dist_pred))\n",
    "    \n",
    "    return mse_dist\n",
    "\n",
    "@tf.function\n",
    "def calc_loss_interp(interp_x, cutoff_interp_decoding = 1.0):   \n",
    "    \n",
    "    dist_mat_decoding = calculate_dist_mat(interp_x) #[B,6,6]    \n",
    "\n",
    "\n",
    "    mask = tf.math.logical_and(tf.greater(dist_mat_decoding, 1e-3), tf.less(dist_mat_decoding, cutoff_interp_decoding))\n",
    "    over_values = tf.boolean_mask(dist_mat_decoding, mask)\n",
    "    \n",
    "    if tf.shape(over_values)[0] == 0:\n",
    "        return tf.constant(0.0)\n",
    "    else:\n",
    "        diff = over_values - cutoff_interp_decoding\n",
    "        loss_interp_dist = tf.reduce_mean(tf.square(diff))\n",
    "        return loss_interp_dist\n",
    "\n",
    "\n",
    "\n",
    "## loss\n",
    "@tf.function\n",
    "def calculate_loss(y_true,y_pred,interp_x):\n",
    "    \n",
    "    mse_xyz = calc_loss_xyz(y_true,y_pred)\n",
    "    mae_dist = calc_loss_dist(y_true,y_pred)    \n",
    "    loss_interp = calc_loss_interp(interp_x)\n",
    "    \n",
    "    # Setting loss weight\n",
    "    final_loss_xyz = mse_xyz\n",
    "    final_loss_dist = mae_dist * 5\n",
    "    final_loss_interp = loss_interp * 1e-1\n",
    "\n",
    "    total_loss = final_loss_xyz  + final_loss_dist + final_loss_interp\n",
    "    \n",
    "    return total_loss, final_loss_xyz, final_loss_dist, final_loss_interp "
   ]
  },
  {
   "cell_type": "code",
   "execution_count": 18,
   "metadata": {},
   "outputs": [],
   "source": [
    "autoencoder = Autoencoder()\n",
    "optimizer = tf.optimizers.Adam(learning_rate=0.001)"
   ]
  },
  {
   "cell_type": "code",
   "execution_count": 19,
   "metadata": {},
   "outputs": [],
   "source": [
    "@tf.function\n",
    "def train_one_step(model, samples, optimizer):\n",
    "    with tf.GradientTape() as tape:\n",
    "        y_pred, interp_x = model(samples, training=True)\n",
    "        loss, final_loss_xyz, final_loss_dist, final_loss_interp = calculate_loss(y_true=samples, y_pred=y_pred, interp_x=interp_x)\n",
    "        \n",
    "    grads = tape.gradient(loss, model.weights)\n",
    "    optimizer.apply_gradients(zip(grads, model.weights))\n",
    "    \n",
    "    return y_pred, loss, final_loss_xyz, final_loss_dist, final_loss_interp"
   ]
  },
  {
   "cell_type": "code",
   "execution_count": 20,
   "metadata": {},
   "outputs": [
    {
     "name": "stdout",
     "output_type": "stream",
     "text": [
      "Epoch           Tota_loss       xyz_loss      dist_loss    interp_loss\n",
      "1                  0.5784         0.3661         0.2115         0.0008\n",
      "\n",
      "Epoch           Tota_loss       xyz_loss      dist_loss    interp_loss\n",
      "2                  0.3694         0.2971         0.0720         0.0002\n",
      "\n",
      "Epoch           Tota_loss       xyz_loss      dist_loss    interp_loss\n",
      "3                  0.3546         0.2910         0.0635         0.0002\n",
      "\n",
      "Epoch           Tota_loss       xyz_loss      dist_loss    interp_loss\n",
      "4                  0.3452         0.2810         0.0640         0.0002\n",
      "\n",
      "Epoch           Tota_loss       xyz_loss      dist_loss    interp_loss\n",
      "5                  0.3005         0.2234         0.0756         0.0014\n",
      "\n",
      "Epoch           Tota_loss       xyz_loss      dist_loss    interp_loss\n",
      "6                  0.1844         0.1385         0.0427         0.0032\n",
      "\n",
      "Epoch           Tota_loss       xyz_loss      dist_loss    interp_loss\n",
      "7                  0.1725         0.1327         0.0375         0.0023\n",
      "\n",
      "Epoch           Tota_loss       xyz_loss      dist_loss    interp_loss\n",
      "8                  0.1666         0.1288         0.0359         0.0019\n",
      "\n",
      "Epoch           Tota_loss       xyz_loss      dist_loss    interp_loss\n",
      "9                  0.1620         0.1260         0.0344         0.0016\n",
      "\n",
      "Epoch           Tota_loss       xyz_loss      dist_loss    interp_loss\n",
      "10                 0.1590         0.1236         0.0341         0.0013\n",
      "\n",
      "Epoch           Tota_loss       xyz_loss      dist_loss    interp_loss\n",
      "11                 0.1561         0.1213         0.0336         0.0012\n",
      "\n",
      "Epoch           Tota_loss       xyz_loss      dist_loss    interp_loss\n",
      "12                 0.1531         0.1186         0.0334         0.0011\n",
      "\n",
      "Epoch           Tota_loss       xyz_loss      dist_loss    interp_loss\n",
      "13                 0.1420         0.1008         0.0398         0.0015\n",
      "\n",
      "Epoch           Tota_loss       xyz_loss      dist_loss    interp_loss\n",
      "14                 0.0431         0.0142         0.0252         0.0037\n",
      "\n",
      "Epoch           Tota_loss       xyz_loss      dist_loss    interp_loss\n",
      "15                 0.0216         0.0041         0.0145         0.0031\n",
      "\n",
      "Epoch           Tota_loss       xyz_loss      dist_loss    interp_loss\n",
      "16                 0.0182         0.0033         0.0122         0.0026\n",
      "\n",
      "Epoch           Tota_loss       xyz_loss      dist_loss    interp_loss\n",
      "17                 0.0158         0.0023         0.0112         0.0023\n",
      "\n",
      "Epoch           Tota_loss       xyz_loss      dist_loss    interp_loss\n",
      "18                 0.0143         0.0019         0.0103         0.0020\n",
      "\n",
      "Epoch           Tota_loss       xyz_loss      dist_loss    interp_loss\n",
      "19                 0.0132         0.0018         0.0096         0.0018\n",
      "\n",
      "Epoch           Tota_loss       xyz_loss      dist_loss    interp_loss\n",
      "20                 0.0124         0.0017         0.0091         0.0016\n",
      "\n",
      "Epoch           Tota_loss       xyz_loss      dist_loss    interp_loss\n",
      "21                 0.0114         0.0015         0.0084         0.0015\n",
      "\n",
      "Epoch           Tota_loss       xyz_loss      dist_loss    interp_loss\n",
      "22                 0.0111         0.0015         0.0082         0.0014\n",
      "\n",
      "Epoch           Tota_loss       xyz_loss      dist_loss    interp_loss\n",
      "23                 0.0102         0.0014         0.0076         0.0012\n",
      "\n",
      "Epoch           Tota_loss       xyz_loss      dist_loss    interp_loss\n",
      "24                 0.0095         0.0012         0.0070         0.0012\n",
      "\n",
      "Epoch           Tota_loss       xyz_loss      dist_loss    interp_loss\n",
      "25                 0.0088         0.0012         0.0066         0.0011\n",
      "\n",
      "Epoch           Tota_loss       xyz_loss      dist_loss    interp_loss\n",
      "26                 0.0081         0.0011         0.0060         0.0011\n",
      "\n",
      "Epoch           Tota_loss       xyz_loss      dist_loss    interp_loss\n",
      "27                 0.0075         0.0010         0.0055         0.0010\n",
      "\n",
      "Epoch           Tota_loss       xyz_loss      dist_loss    interp_loss\n",
      "28                 0.0072         0.0010         0.0053         0.0009\n",
      "\n",
      "Epoch           Tota_loss       xyz_loss      dist_loss    interp_loss\n",
      "29                 0.0065         0.0009         0.0048         0.0008\n",
      "\n",
      "Epoch           Tota_loss       xyz_loss      dist_loss    interp_loss\n",
      "30                 0.0067         0.0009         0.0050         0.0008\n",
      "\n",
      "Epoch           Tota_loss       xyz_loss      dist_loss    interp_loss\n",
      "31                 0.0062         0.0009         0.0046         0.0008\n",
      "\n",
      "Epoch           Tota_loss       xyz_loss      dist_loss    interp_loss\n",
      "32                 0.0059         0.0008         0.0043         0.0008\n",
      "\n",
      "Epoch           Tota_loss       xyz_loss      dist_loss    interp_loss\n",
      "33                 0.0062         0.0009         0.0046         0.0007\n",
      "\n",
      "Epoch           Tota_loss       xyz_loss      dist_loss    interp_loss\n",
      "34                 0.0063         0.0009         0.0046         0.0008\n",
      "\n",
      "Epoch           Tota_loss       xyz_loss      dist_loss    interp_loss\n",
      "35                 0.0059         0.0008         0.0044         0.0007\n",
      "\n",
      "Epoch           Tota_loss       xyz_loss      dist_loss    interp_loss\n",
      "36                 0.0045         0.0006         0.0033         0.0006\n",
      "\n",
      "Epoch           Tota_loss       xyz_loss      dist_loss    interp_loss\n",
      "37                 0.0047         0.0006         0.0035         0.0005\n",
      "\n",
      "Epoch           Tota_loss       xyz_loss      dist_loss    interp_loss\n",
      "38                 0.0047         0.0006         0.0035         0.0005\n",
      "\n",
      "Epoch           Tota_loss       xyz_loss      dist_loss    interp_loss\n",
      "39                 0.0048         0.0007         0.0036         0.0005\n",
      "\n",
      "Epoch           Tota_loss       xyz_loss      dist_loss    interp_loss\n",
      "40                 0.0041         0.0006         0.0031         0.0005\n",
      "\n",
      "Epoch           Tota_loss       xyz_loss      dist_loss    interp_loss\n",
      "41                 0.0044         0.0006         0.0033         0.0005\n",
      "\n",
      "Epoch           Tota_loss       xyz_loss      dist_loss    interp_loss\n",
      "42                 0.0042         0.0006         0.0031         0.0005\n",
      "\n",
      "Epoch           Tota_loss       xyz_loss      dist_loss    interp_loss\n",
      "43                 0.0043         0.0006         0.0033         0.0005\n",
      "\n",
      "Epoch           Tota_loss       xyz_loss      dist_loss    interp_loss\n",
      "44                 0.0036         0.0005         0.0027         0.0005\n",
      "\n",
      "Epoch           Tota_loss       xyz_loss      dist_loss    interp_loss\n",
      "45                 0.0038         0.0005         0.0029         0.0004\n",
      "\n",
      "Epoch           Tota_loss       xyz_loss      dist_loss    interp_loss\n",
      "46                 0.0043         0.0006         0.0033         0.0005\n",
      "\n",
      "Epoch           Tota_loss       xyz_loss      dist_loss    interp_loss\n",
      "47                 0.0041         0.0006         0.0031         0.0005\n",
      "\n",
      "Epoch           Tota_loss       xyz_loss      dist_loss    interp_loss\n",
      "48                 0.0040         0.0005         0.0030         0.0005\n",
      "\n",
      "Epoch           Tota_loss       xyz_loss      dist_loss    interp_loss\n",
      "49                 0.0039         0.0005         0.0029         0.0004\n",
      "\n",
      "Epoch           Tota_loss       xyz_loss      dist_loss    interp_loss\n",
      "50                 0.0042         0.0006         0.0032         0.0004\n",
      "\n"
     ]
    }
   ],
   "source": [
    "n_epoch = 50\n",
    "batch_size = 100\n",
    "\n",
    "\n",
    "np_ave_loss = []\n",
    "list_test_loss = []\n",
    "for epoch in range(n_epoch):\n",
    "\n",
    "    print(f\"{'Epoch':<10}{'Tota_loss':>15}{'xyz_loss':>15}{'dist_loss':>15}{'interp_loss':>15}\")\n",
    "\n",
    "    # Loss\n",
    "    n_ave = 0\n",
    "    ave_loss = np.array([0,0,0,0])  \n",
    "\n",
    "    for i, samples in enumerate(dataset):\n",
    "        y_pred, loss, final_loss_xyz, final_loss_dist, final_loss_interp = train_one_step(autoencoder, samples, optimizer)\n",
    "\n",
    "\n",
    "        n_ave += 1\n",
    "        ave_loss = ave_loss + (np.array([loss,final_loss_xyz,final_loss_dist,final_loss_interp]) - ave_loss)/n_ave\n",
    "        if i%100 == 0:                        \n",
    "            print(f\"\\r{epoch+1:<10}{ave_loss[0]:15.4f}{ave_loss[1]:15.4f}{ave_loss[2]:15.4f}{ave_loss[3]:15.4f}\", end=\"\")\n",
    "    print(\"\\n\")\n",
    "    \n",
    "    test_pred, test_interp = autoencoder(test_data)\n",
    "    (test_total_loss,test_loss_xyz,test_loss_dist,test_loss_interp) = calculate_loss(test_data, test_pred, test_interp)\n",
    "    list_test_loss.append(test_total_loss.numpy())      \n",
    "    \n",
    "    np_ave_loss = np.concatenate([np_ave_loss,ave_loss],axis=0)\n",
    "\n"
   ]
  },
  {
   "cell_type": "markdown",
   "metadata": {},
   "source": [
    "## 1.5 Generate initial guess for NEB"
   ]
  },
  {
   "cell_type": "code",
   "execution_count": 21,
   "metadata": {},
   "outputs": [],
   "source": [
    "encoding_1 = autoencoder.encode(coord_1)\n",
    "encoding_2 = autoencoder.encode(coord_2)\n",
    "\n",
    "decoded_mats = [coord_1]\n",
    "#for s in np.arange(0, 1+1e-5, 0.01):\n",
    "for s in np.arange(0, 1, 0.067):\n",
    "    interpolated_encoding = (1-s)*encoding_1 + s*encoding_2\n",
    "    #print(interpolated_encoding)\n",
    "    decoded = autoencoder.decode(interpolated_encoding)\n",
    "    decoded = np.reshape(decoded, [6, 3])\n",
    "    \n",
    "    decoded_mats.append(decoded)\n",
    "decoded_mats += [coord_2]"
   ]
  },
  {
   "cell_type": "code",
   "execution_count": 22,
   "metadata": {},
   "outputs": [],
   "source": [
    "#decoded_mats\n",
    "atoms_list = []\n",
    "for i, mat in enumerate(decoded_mats):\n",
    "    st = Atoms(symbols = 'HHHCCN', positions= decoded_mats[i])    \n",
    "    atoms_list.append(st)"
   ]
  },
  {
   "cell_type": "code",
   "execution_count": 23,
   "metadata": {},
   "outputs": [],
   "source": [
    "def atoms_list_to_xyz(filename, atoms_list):\n",
    "    with open(filename, \"w\") as f:\n",
    "        for atoms in atoms_list:\n",
    "            f.write(\"%d\\n\\n\" % len(atoms))\n",
    "            for sym, pos in zip(atoms.symbols, atoms.positions):\n",
    "                f.write(\"{} {} {} {}\\n\".format(sym, *pos))"
   ]
  },
  {
   "cell_type": "code",
   "execution_count": 24,
   "metadata": {},
   "outputs": [],
   "source": [
    "atoms_list_to_xyz(\"aceT_nebguess.xyz\", atoms_list)"
   ]
  },
  {
   "cell_type": "markdown",
   "metadata": {},
   "source": [
    "## 2. LI"
   ]
  },
  {
   "cell_type": "code",
   "execution_count": 25,
   "metadata": {},
   "outputs": [],
   "source": [
    "from ase.neb import NEB\n",
    "from ase.optimize import MDMin, BFGS, FIRE\n",
    "from ase import Atoms"
   ]
  },
  {
   "cell_type": "code",
   "execution_count": 26,
   "metadata": {},
   "outputs": [],
   "source": [
    "initials = Atoms(symbols = 'HHHCCN', positions= coord_1)\n",
    "finals = Atoms(symbols = 'HHHCCN', positions= coord_2)\n",
    "images = [initials]\n",
    "images += [initials.copy() for i in range(15)]\n",
    "images += [finals]"
   ]
  },
  {
   "cell_type": "code",
   "execution_count": 27,
   "metadata": {},
   "outputs": [],
   "source": [
    "neb = NEB(images)\n",
    "neb.interpolate()\n",
    "matrix = neb.get_positions()\n",
    "# (B, 6, 3)\n",
    "matrix = matrix.reshape(15,6,3)\n",
    "#print(matrix)"
   ]
  },
  {
   "cell_type": "code",
   "execution_count": 28,
   "metadata": {},
   "outputs": [],
   "source": [
    "atoms_list = []\n",
    "atoms_list.append(initials)\n",
    "for i, image in enumerate(matrix):\n",
    "    st = Atoms(symbols = 'HHHCCN', positions= image)\n",
    "    atoms_list.append(st)\n",
    "atoms_list.append(finals)\n",
    "atoms_list_to_xyz(\"aceT_LI.xyz\", atoms_list)"
   ]
  },
  {
   "cell_type": "markdown",
   "metadata": {},
   "source": [
    "## 3. IDPP"
   ]
  },
  {
   "cell_type": "code",
   "execution_count": 31,
   "metadata": {},
   "outputs": [
    {
     "name": "stderr",
     "output_type": "stream",
     "text": [
      "/home/hspark8/anaconda3/envs/AE/lib/python3.6/site-packages/ase/utils/__init__.py:530: FutureWarning: Please use NEB's interpolate(method='idpp') method or directly call the idpp_interpolate function from ase.neb\n",
      "  warnings.warn(warning)\n"
     ]
    }
   ],
   "source": [
    "neb = NEB(images)\n",
    "#FIRE로 한번하고 BFGS로 하면 좋은결과 나옴\n",
    "neb.idpp_interpolate(optimizer=FIRE, fmax=0.01, steps=1000)\n",
    "\n",
    "matrix = neb.get_positions()\n",
    "# (B, 6, 3)\n",
    "matrix = matrix.reshape(15,6,3)"
   ]
  },
  {
   "cell_type": "code",
   "execution_count": 32,
   "metadata": {},
   "outputs": [],
   "source": [
    "atoms_list = []\n",
    "atoms_list.append(initials)\n",
    "for i, image in enumerate(matrix):\n",
    "    st = Atoms(symbols = 'HHHCCN', positions= image)\n",
    "    atoms_list.append(st)\n",
    "atoms_list.append(finals)\n",
    "atoms_list_to_xyz(\"aceT_IDPP.xyz\", atoms_list)"
   ]
  },
  {
   "cell_type": "code",
   "execution_count": null,
   "metadata": {},
   "outputs": [],
   "source": []
  }
 ],
 "metadata": {
  "kernelspec": {
   "display_name": "Python 3",
   "language": "python",
   "name": "python3"
  },
  "language_info": {
   "codemirror_mode": {
    "name": "ipython",
    "version": 3
   },
   "file_extension": ".py",
   "mimetype": "text/x-python",
   "name": "python",
   "nbconvert_exporter": "python",
   "pygments_lexer": "ipython3",
   "version": "3.6.12"
  }
 },
 "nbformat": 4,
 "nbformat_minor": 4
}
